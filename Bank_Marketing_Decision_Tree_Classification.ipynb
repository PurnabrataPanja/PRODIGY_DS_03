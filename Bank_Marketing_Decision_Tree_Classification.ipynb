{
  "nbformat": 4,
  "nbformat_minor": 0,
  "metadata": {
    "colab": {
      "provenance": [],
      "authorship_tag": "ABX9TyOETvMxZJdqRsa5RdfTPd2n",
      "include_colab_link": true
    },
    "kernelspec": {
      "name": "python3",
      "display_name": "Python 3"
    },
    "language_info": {
      "name": "python"
    }
  },
  "cells": [
    {
      "cell_type": "markdown",
      "metadata": {
        "id": "view-in-github",
        "colab_type": "text"
      },
      "source": [
        "<a href=\"https://colab.research.google.com/github/PurnabrataPanja/PRODIGY_DS_03/blob/main/Bank_Marketing_Decision_Tree_Classification.ipynb\" target=\"_parent\"><img src=\"https://colab.research.google.com/assets/colab-badge.svg\" alt=\"Open In Colab\"/></a>"
      ]
    },
    {
      "cell_type": "code",
      "source": [
        "# Importing necessary libraries\n",
        "import pandas as pd\n",
        "from sklearn.model_selection import train_test_split\n",
        "from sklearn.tree import DecisionTreeClassifier\n",
        "from sklearn.metrics import classification_report, confusion_matrix\n",
        "from sklearn.preprocessing import LabelEncoder"
      ],
      "metadata": {
        "id": "_GgU3yTWYsuy"
      },
      "execution_count": 38,
      "outputs": []
    },
    {
      "cell_type": "code",
      "source": [
        "# Load the dataset into a DataFrame\n",
        "bank_data = pd.read_csv(\"bank-full.csv\", sep=\";\")"
      ],
      "metadata": {
        "id": "ReyKUqhJY1OG"
      },
      "execution_count": 39,
      "outputs": []
    },
    {
      "cell_type": "code",
      "source": [
        "# Data preprocessing\n",
        "# Encode categorical variables using LabelEncoder\n",
        "le = LabelEncoder()\n",
        "for column in bank_data.columns:\n",
        "    if bank_data[column].dtype == 'object':\n",
        "        bank_data[column] = le.fit_transform(bank_data[column])"
      ],
      "metadata": {
        "id": "GelgmuxQY52d"
      },
      "execution_count": 40,
      "outputs": []
    },
    {
      "cell_type": "code",
      "source": [
        "# Split dataset into features and target variable\n",
        "X = bank_data.drop('y', axis=1)\n",
        "y = bank_data['y']"
      ],
      "metadata": {
        "id": "IPO8A6__Y7hO"
      },
      "execution_count": 41,
      "outputs": []
    },
    {
      "cell_type": "code",
      "source": [
        "# Split dataset into training and testing sets\n",
        "X_train, X_test, y_train, y_test = train_test_split(X, y, test_size=0.2, random_state=42)"
      ],
      "metadata": {
        "id": "vKVxoMb6ZB2j"
      },
      "execution_count": 42,
      "outputs": []
    },
    {
      "cell_type": "code",
      "execution_count": 43,
      "metadata": {
        "colab": {
          "base_uri": "https://localhost:8080/"
        },
        "id": "KHyZ_Ei0QbUX",
        "outputId": "0ee7e04f-a2b9-4c77-b3d7-56100da25784"
      },
      "outputs": [
        {
          "output_type": "stream",
          "name": "stdout",
          "text": [
            "Classification Report:\n",
            "              precision    recall  f1-score   support\n",
            "\n",
            "           0       0.93      0.93      0.93      7952\n",
            "           1       0.47      0.48      0.48      1091\n",
            "\n",
            "    accuracy                           0.87      9043\n",
            "   macro avg       0.70      0.71      0.70      9043\n",
            "weighted avg       0.87      0.87      0.87      9043\n",
            "\n",
            "Confusion Matrix:\n",
            "[[7365  587]\n",
            " [ 563  528]]\n"
          ]
        }
      ],
      "source": [
        "# Model training\n",
        "dt_classifier = DecisionTreeClassifier()\n",
        "dt_classifier.fit(X_train, y_train)\n",
        "# Model evaluation\n",
        "y_pred = dt_classifier.predict(X_test)\n",
        "print(\"Classification Report:\")\n",
        "print(classification_report(y_test, y_pred))\n",
        "print(\"Confusion Matrix:\")\n",
        "print(confusion_matrix(y_test, y_pred))\n"
      ]
    }
  ]
}